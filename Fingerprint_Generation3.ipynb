{
 "cells": [
  {
   "cell_type": "markdown",
   "metadata": {},
   "source": [
    "#### Load data"
   ]
  },
  {
   "cell_type": "code",
   "execution_count": 21,
   "metadata": {},
   "outputs": [],
   "source": [
    "with open('log/IIIHTTP.log','r') as InputData:\n",
    "    APPdata = InputData.readlines()\n",
    "    APPdata = [i.strip().split('\\t') for i in APPdata]\n",
    "    #For BackdroundAPP.txt format\n",
    "    #APPdata = [i.strip().split(',') for i in APPdata]\n",
    "    APPdata = list(filter(lambda x:'#' not in x[0],APPdata))"
   ]
  },
  {
   "cell_type": "code",
   "execution_count": 22,
   "metadata": {
    "collapsed": true
   },
   "outputs": [],
   "source": [
    "with open('log/IIIHTTP3.log','r') as InputData2:\n",
    "    Testdata = InputData2.readlines()\n",
    "    Testdata = [i.strip().split('\\t') for i in Testdata]\n",
    "    Testdata = list(filter(lambda x:'#' not in x[0],Testdata))"
   ]
  },
  {
   "cell_type": "code",
   "execution_count": 23,
   "metadata": {
    "collapsed": true
   },
   "outputs": [],
   "source": [
    "def similarity(test_data,whiteList_data):\n",
    "    score = 0\n",
    "    for key in fingerprint_keys_index:\n",
    "        for key_index in fingerprint_keys_index[key]:\n",
    "            if test_data[key_index] in whiteList_data[key]:\n",
    "                score += 1\n",
    "    #if score > 0:\n",
    "    #    WhiteListUpdate(test_data,whiteList_data)\n",
    "    return score"
   ]
  },
  {
   "cell_type": "code",
   "execution_count": 24,
   "metadata": {},
   "outputs": [
    {
     "name": "stdout",
     "output_type": "stream",
     "text": [
      "['1521442785.193737', 'ChoauHUyYj4gYcPFf', '140.92.16.71', '51635', '140.92.66.104', '80', '2', 'POST', 'iiiwsus2.iii.org.tw', '/ClientWebService/client.asmx', '-', '1.1', 'Windows-Update-Agent/10.0.10011.16384 Client-Protocol/1.70', '107957', '713', '200', 'OK', '-', '-', '(empty)', '-', '-', '-', 'FlK9jZW2DkxulMo4b', '-', 'text/plain', 'F7EQnn1YUpcvMO9tB2', '-', '-']\n"
     ]
    }
   ],
   "source": [
    "print(APPdata[2])\n",
    "def WhiteListUpdate(data):\n",
    "    pass"
   ]
  },
  {
   "cell_type": "code",
   "execution_count": 25,
   "metadata": {
    "collapsed": true
   },
   "outputs": [],
   "source": [
    "def outgoingInfo(data):\n",
    "    pass"
   ]
  },
  {
   "cell_type": "markdown",
   "metadata": {},
   "source": [
    "#### Training the white list fingerprint"
   ]
  },
  {
   "cell_type": "code",
   "execution_count": 26,
   "metadata": {},
   "outputs": [],
   "source": [
    "fingerprint_keys_index={'ip':[4],'host':[8],'userAgent':[12]}\n",
    "trainedList = {}\n",
    "for index in range(len(APPdata)):\n",
    "    if APPdata[index][12].strip() != \"'-'\":\n",
    "        label = APPdata[index][12].replace('\\'','').strip()\n",
    "        if label not in trainedList:\n",
    "            tmp_dict = {'ip':[APPdata[index][4].replace('\\'','').strip()],\n",
    "                        'host':[APPdata[index][8].replace('\\'','').strip()],\n",
    "                        'userAgent':[label]}\n",
    "            trainedList.setdefault(label)\n",
    "            trainedList[label] = tmp_dict\n",
    "        else:\n",
    "            for key in fingerprint_keys_index:\n",
    "                for key_index in fingerprint_keys_index[key]:\n",
    "                    tmp_APPdata = APPdata[index][key_index].replace('\\'','').strip()\n",
    "                    if  tmp_APPdata not in trainedList[label][key]:\n",
    "                        trainedList[label].setdefault(key,[]).append(tmp_APPdata)"
   ]
  },
  {
   "cell_type": "code",
   "execution_count": null,
   "metadata": {
    "collapsed": true
   },
   "outputs": [],
   "source": []
  },
  {
   "cell_type": "code",
   "execution_count": 30,
   "metadata": {
    "scrolled": true
   },
   "outputs": [],
   "source": [
    "toBeDetermined = []\n",
    "NoHost =[]\n",
    "for test_index in range(len(Testdata)):\n",
    "    similarityScore = 0\n",
    "    if Testdata[test_index][8] == '-':\n",
    "        NoHost.append(Testdata[test_index])\n",
    "    else:\n",
    "        if Testdata[test_index][12] in trainedList:\n",
    "            whiteList = trainedList[Testdata[test_index][12]]\n",
    "            similarityScore = similarity(Testdata[test_index],whiteList)\n",
    "        else:\n",
    "            max_score = 0\n",
    "            likelihoodAPP = []\n",
    "            for label in trainedList:\n",
    "                similarityScore = similarity(Testdata[test_index],trainedList[label])\n",
    "                if similarityScore == 0:\n",
    "                    toBeDetermined.append(Testdata[test_index])\n",
    "                    #outgoingInfo(Testdata[test_index])\n",
    "                    continue\n",
    "                elif similarityScore > max_score:\n",
    "                    likelihoodAPP = Testdata[test_index]\n",
    "                    max_score = similarityScore\n",
    "                else:\n",
    "                    likelihoodAPP.append(Testdata[test_index])\n",
    "            #print(similarityScore,Testdata[test_index][12],likelihoodAPP)"
   ]
  },
  {
   "cell_type": "code",
   "execution_count": null,
   "metadata": {
    "scrolled": true
   },
   "outputs": [],
   "source": []
  },
  {
   "cell_type": "code",
   "execution_count": null,
   "metadata": {
    "scrolled": true
   },
   "outputs": [],
   "source": []
  },
  {
   "cell_type": "code",
   "execution_count": null,
   "metadata": {},
   "outputs": [],
   "source": []
  },
  {
   "cell_type": "code",
   "execution_count": null,
   "metadata": {
    "collapsed": true
   },
   "outputs": [],
   "source": []
  }
 ],
 "metadata": {
  "kernelspec": {
   "display_name": "Python 3",
   "language": "python",
   "name": "python3"
  },
  "language_info": {
   "codemirror_mode": {
    "name": "ipython",
    "version": 3
   },
   "file_extension": ".py",
   "mimetype": "text/x-python",
   "name": "python",
   "nbconvert_exporter": "python",
   "pygments_lexer": "ipython3",
   "version": "3.6.3"
  }
 },
 "nbformat": 4,
 "nbformat_minor": 2
}

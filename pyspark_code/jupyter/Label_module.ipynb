{
 "cells": [
  {
   "cell_type": "code",
   "execution_count": 1,
   "metadata": {},
   "outputs": [
    {
     "data": {
      "text/plain": [
       "Waiting for a Spark session to start..."
      ]
     },
     "metadata": {},
     "output_type": "display_data"
    },
    {
     "data": {
      "text/plain": [
       "Waiting for a Spark session to start..."
      ]
     },
     "metadata": {},
     "output_type": "display_data"
    }
   ],
   "source": [
    "from pyspark import SparkContext, SparkConf\n",
    "from pyspark.sql import SparkSession\n",
    "from pyspark.sql.types import *"
   ]
  },
  {
   "cell_type": "code",
   "execution_count": 2,
   "metadata": {},
   "outputs": [],
   "source": [
    "# 建立 sparkcontext\n",
    "sc.stop()\n",
    "sc = SparkContext().getOrCreate()\n",
    "sc\n",
    "# 建立 sparksession\n",
    "ss = SparkSession.builder.getOrCreate()"
   ]
  },
  {
   "cell_type": "code",
   "execution_count": 6,
   "metadata": {},
   "outputs": [],
   "source": [
    "# 讀取取資料\n",
    "textFile = sc.textFile(\"hdfs://192.168.70.132:9000/data/tony/http.log\")\n",
    "\n",
    "\n",
    "# 資料處理\n",
    "s1 = textFile.filter(lambda x: '#' not in x)\n",
    "s2 = s1.map(lambda x: x.split('\\t'))\n",
    "s3 = s2.map(lambda x: tuple([str(i.strip()) for i in x]))"
   ]
  },
  {
   "cell_type": "code",
   "execution_count": 7,
   "metadata": {},
   "outputs": [],
   "source": [
    "# 建立資料的 schema\n",
    "fields = [StructField(f_name.replace('.','_').strip(), StringType(), True) for f_name in textFile.take(7)[6].replace('#fields\\t', '').split('\\t')]\n",
    "schema = StructType(fields)\n",
    "# print field\n",
    "\n",
    "# 建立 dataframe 並綁定資料和 schema\n",
    "schemaReq = ss.createDataFrame(s3, schema)\n",
    "schemaReq.createOrReplaceTempView(\"Req\")"
   ]
  },
  {
   "cell_type": "code",
   "execution_count": 8,
   "metadata": {},
   "outputs": [],
   "source": [
    "from pyspark.sql.functions import udf\n",
    "from pyspark.sql.types import StringType\n",
    "from pyspark.sql.types import IntegerType\n",
    "\n",
    "\n",
    "def replace_str(tmpStr):\n",
    "    return tmpStr.replace('https', 'http').strip('/')\n",
    "\n",
    "def chk_head(tmp_resp, tmp_agent):\n",
    "    chk_con_type = {'text/html', 'text/css', 'application/x-javascript', 'application/x-shockwave-flash'}\n",
    "    browsers = {'chrome', 'firefox', 'safari', 'waterfox', 'mozilla'}\n",
    "    \n",
    "    if tmp_resp in chk_con_type and any(x in tmp_agent.lower() for x in browsers):\n",
    "        return 1      \n",
    "    else:\n",
    "        return 0\n",
    "\n",
    "def chk_agent(tmpStr):\n",
    "    browsers = {'chrome', 'firefox', 'safari', 'waterfox'}\n",
    "    if any(x in tmpStr.lower() for x in browsers):\n",
    "        return 'browser'\n",
    "    else:\n",
    "        return 'background app'\n",
    "    \n",
    "    \n",
    "\n",
    "test_udf_str = udf(lambda x: replace_str(x), StringType())\n",
    "head_udf = udf(lambda x, y: chk_head(x, y), IntegerType())\n",
    "label_udf = udf(lambda x: chk_agent(x), StringType())"
   ]
  },
  {
   "cell_type": "code",
   "execution_count": 9,
   "metadata": {},
   "outputs": [],
   "source": [
    "res_df = schemaReq.select(\n",
    "    \"ts\", \"uid\", \"id_orig_h\", \"id_orig_p\", \"id_resp_h\", \n",
    "    \"id_resp_p\", \"trans_depth\", \"method\", \"host\", \"uri\",\n",
    "    \"version\", \"user_agent\", \"request_body_len\",\n",
    "    \"response_body_len\", \"status_code\", \"status_msg\", \"info_code\",\n",
    "    \"info_msg\", \"tags\", \"username\", \"password\", \"proxied\",\n",
    "    \"orig_fuids\", \"orig_filenames\", \"orig_mime_types\",\n",
    "    \"resp_fuids\", \"resp_filenames\", \"resp_mime_types\",\n",
    "    \n",
    "    test_udf_str(schemaReq['referrer']).alias('referrer'),\n",
    "    head_udf(schemaReq['resp_mime_types'], schemaReq['user_agent']).alias('head'),\n",
    "    label_udf(schemaReq['user_agent']).alias('label'),\n",
    "    'user_agent', 'resp_mime_types'\n",
    ")\n",
    "\n"
   ]
  },
  {
   "cell_type": "code",
   "execution_count": 15,
   "metadata": {},
   "outputs": [
    {
     "name": "stdout",
     "output_type": "stream",
     "text": [
      "+------------------+--------------------+--------------------+--------------+--------------------+----+\n",
      "|              host|                 uri|          user_agent|         label|            referrer|head|\n",
      "+------------------+--------------------+--------------------+--------------+--------------------+----+\n",
      "|      www.yolo.com|                   /|python-requests/2...|background app|                   -|   0|\n",
      "|           qoo.com|                   /|         curl/7.54.0|background app|                   -|   0|\n",
      "|       www.qoo.com|                   /|         curl/7.54.0|background app|                   -|   0|\n",
      "| ocsp.digicert.com|/MFYwVKADAgEAME0w...|trustd (unknown v...|background app|                   -|   0|\n",
      "| www.pchome.com.tw|                   /|Mozilla/5.0 (Maci...|       browser|http://www.ecosia...|   1|\n",
      "| www.pchome.com.tw|/js/index.js?1519...|Mozilla/5.0 (Maci...|       browser|http://www.pchome...|   0|\n",
      "|adcl.pchome.com.tw|/getAd2JS.html?ty...|Mozilla/5.0 (Maci...|       browser|http://www.pchome...|   0|\n",
      "|adcl.pchome.com.tw|/getAd2JS.html?ty...|Mozilla/5.0 (Maci...|       browser|http://www.pchome...|   0|\n",
      "|adcl.pchome.com.tw|/getAd2JS.html?ty...|Mozilla/5.0 (Maci...|       browser|http://www.pchome...|   0|\n",
      "|adcl.pchome.com.tw|/getAd2JS.html?ty...|Mozilla/5.0 (Maci...|       browser|http://www.pchome...|   0|\n",
      "|apis.pchome.com.tw|/js/overlay_ad.js...|Mozilla/5.0 (Maci...|       browser|http://www.pchome...|   0|\n",
      "|adcl.pchome.com.tw|/getAd2JS.html?ty...|Mozilla/5.0 (Maci...|       browser|http://www.pchome...|   0|\n",
      "|  pic.adver.com.tw|/css/mobile_ad.cs...|Mozilla/5.0 (Maci...|       browser|http://www.pchome...|   0|\n",
      "|  ad.pchome.com.tw|          /cs/js?s=1|Mozilla/5.0 (Maci...|       browser|http://www.pchome...|   0|\n",
      "|adcl.pchome.com.tw|/getAd2JS.html?ty...|Mozilla/5.0 (Maci...|       browser|http://www.pchome...|   0|\n",
      "|adcl.pchome.com.tw|/getAd2JS.html?ty...|Mozilla/5.0 (Maci...|       browser|http://www.pchome...|   0|\n",
      "|adcl.pchome.com.tw|/getAd2JS.html?ty...|Mozilla/5.0 (Maci...|       browser|http://www.pchome...|   0|\n",
      "|adcl.pchome.com.tw|/getAd2JS.html?ty...|Mozilla/5.0 (Maci...|       browser|http://www.pchome...|   0|\n",
      "|adcl.pchome.com.tw|/getAd2JS.html?ty...|Mozilla/5.0 (Maci...|       browser|http://www.pchome...|   0|\n",
      "| www.pchome.com.tw|/js/action.js?201...|Mozilla/5.0 (Maci...|       browser|http://www.pchome...|   0|\n",
      "+------------------+--------------------+--------------------+--------------+--------------------+----+\n",
      "only showing top 20 rows\n",
      "\n"
     ]
    }
   ],
   "source": [
    "res_df.filter((res_df['resp_mime_types'] == 'text/html') | (res_df['user_agent'] != '-')).select(\n",
    "    'host', 'uri', 'user_agent', 'label', 'referrer', 'head'\n",
    ").show()"
   ]
  },
  {
   "cell_type": "code",
   "execution_count": null,
   "metadata": {},
   "outputs": [],
   "source": []
  }
 ],
 "metadata": {
  "kernelspec": {
   "display_name": "Apache Toree - PySpark",
   "language": "python",
   "name": "apache_toree_pyspark"
  },
  "language_info": {
   "codemirror_mode": "text/x-ipython",
   "file_extension": ".py",
   "mimetype": "text/x-ipython",
   "name": "python",
   "pygments_lexer": "python",
   "version": "2.7.5\n"
  }
 },
 "nbformat": 4,
 "nbformat_minor": 2
}

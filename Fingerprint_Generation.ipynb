{
 "cells": [
  {
   "cell_type": "code",
   "execution_count": 124,
   "metadata": {
    "collapsed": true
   },
   "outputs": [],
   "source": [
    "with open('Background_APP.txt','r') as InputData:\n",
    "    APPdata = InputData.readlines()\n",
    "    APPdata = [i.strip().split(',') for i in APPdata]"
   ]
  },
  {
   "cell_type": "code",
   "execution_count": 226,
   "metadata": {
    "collapsed": true
   },
   "outputs": [],
   "source": [
    "import collections"
   ]
  },
  {
   "cell_type": "code",
   "execution_count": 227,
   "metadata": {
    "collapsed": true
   },
   "outputs": [],
   "source": [
    "d = collections.defaultdict(list)\n",
    "\n",
    "for index in range(len(APPdata)):\n",
    "    \n",
    "    if '140.92' in APPdata[index][4]:\n",
    "        APPdata[index].append('III app')\n",
    "        \n",
    "        \n",
    "    elif 'Microsoft BITS' in APPdata[index][12]:\n",
    "        APPdata[index].append('Windows Background Intelligent Transfer Service')\n",
    "    elif 'Microsoft-CryptoAPI' in APPdata[index][12]:\n",
    "        APPdata[index].append('Microsoft-CryptoAPI')\n",
    "    elif 'Microsoft Office' in APPdata[index][12]:\n",
    "        APPdata[index].append('Microsoft Office')\n",
    "    elif 'Microsoft-WNS' in APPdata[index][12]:\n",
    "        APPdata[index].append('Microsoft-WNS')\n",
    "    elif 'Windows-Update' in APPdata[index][12]:\n",
    "        APPdata[index].append('Windows-Update')\n",
    "    elif 'Microsoft NCSI' in APPdata[index][12]:\n",
    "        APPdata[index].append('Windows Network Connectivity Status Indicator')\n",
    "    elif 'Microsoft-Delivery-Optimization' in APPdata[index][12]:\n",
    "        APPdata[index].append('Microsoft-Delivery-Optimization')\n",
    "    elif 'Windows-Media-Player' in APPdata[index][12]:\n",
    "        APPdata[index].append('Windows-Media-Player')\n",
    "    elif 'OfficeC2R' in APPdata[index][12]:\n",
    "        APPdata[index].append('Microsoft office')\n",
    "    elif 'MICROSOFT_DEVICE_METADATA_RETRIEVAL_CLIENT' in APPdata[index][12]:\n",
    "        APPdata[index].append('Microsoft Device Metadata Retrieval Client')\n",
    "    elif 'OfficeClickToRun' in APPdata[index][12]:\n",
    "        APPdata[index].append('Microsoft Office ClickToRun Service')\n",
    "    elif 'Windows-RSS-Platform' in APPdata[index][12]:\n",
    "        APPdata[index].append('Windows RSS Platform')\n",
    "        \n",
    "        \n",
    "    elif 'ocspd' in APPdata[index][12]:\n",
    "        APPdata[index].append('ocspd')\n",
    "        \n",
    "        \n",
    "    elif 'MicroMessenger Client' in APPdata[index][12]:\n",
    "        APPdata[index].append('WeChat')\n",
    "    elif 'SyncBackPro' in APPdata[index][12]:\n",
    "        APPdata[index].append('SyncBackPro')\n",
    "    elif 'iTunes' in APPdata[index][12]:\n",
    "        APPdata[index].append('iTunes')\n",
    "    elif 'Dalvik' in APPdata[index][12]:\n",
    "        APPdata[index].append('Dalvik')\n",
    "    elif 'WinHttpClient' in APPdata[index][12]:\n",
    "        APPdata[index].append('WinHttpClient')\n",
    "    elif 'LogiLDA' in APPdata[index][12]:\n",
    "        APPdata[index].append('Logitech driver')\n",
    "    elif 'ShopeeTW' in APPdata[index][12]:\n",
    "        APPdata[index].append('ShopeeTW')\n",
    "    elif 'Android Mobile Line' in APPdata[index][12]:\n",
    "        APPdata[index].append('Line')\n",
    "    elif 'Jakarta' in APPdata[index][12]:\n",
    "        APPdata[index].append('Apache Jakarta')\n",
    "        \n",
    "        \n",
    "    elif APPdata[index][12].strip() == \"'-'\":\n",
    "        APPdata[index].append('waiting to check other information')\n",
    "    \n",
    "    \n",
    "    else:\n",
    "        APPdata[index].append('unknown')"
   ]
  },
  {
   "cell_type": "code",
   "execution_count": null,
   "metadata": {},
   "outputs": [],
   "source": []
  },
  {
   "cell_type": "code",
   "execution_count": null,
   "metadata": {
    "collapsed": true
   },
   "outputs": [],
   "source": []
  },
  {
   "cell_type": "code",
   "execution_count": 296,
   "metadata": {
    "scrolled": true
   },
   "outputs": [
    {
     "name": "stdout",
     "output_type": "stream",
     "text": [
      "<class 'float'>\n"
     ]
    }
   ],
   "source": [
    "fingerprint_label = {}\n",
    "averages={}\n",
    "response_total_len = 0\n",
    "number = 0\n",
    "\n",
    "for index in range(len(APPdata)):\n",
    "    if APPdata[index][-1] not in  fingerprint_label:\n",
    "        \n",
    "        #tmp_dict = {'host':[APPdata[index][8]],'IP':[APPdata[index][4]],'userAgent':[APPdata[index][12]]}\n",
    "        tmp_dict = {'host':[APPdata[index][8]],'userAgent':[APPdata[index][12]]}\n",
    "        fingerprint_label.setdefault(APPdata[index][-1])\n",
    "        fingerprint_label[APPdata[index][-1]] = tmp_dict\n",
    "        \n",
    "        tmp_num = {'request':[APPdata[index][13][2:-1].strip()],'responed':[APPdata[index][14][2:-1].strip()]}\n",
    "        averages.setdefault(APPdata[index][-1])\n",
    "        averages[APPdata[index][-1]] = tmp_num\n",
    "        \n",
    "    else:\n",
    "        if APPdata[index][8] not in fingerprint_label[APPdata[index][-1]]['host']:\n",
    "            fingerprint_label[APPdata[index][-1]].setdefault('host',[]).append(APPdata[index][8])\n",
    "        if APPdata[index][12] not in fingerprint_label[APPdata[index][-1]]['userAgent']:\n",
    "            fingerprint_label[APPdata[index][-1]].setdefault('userAgent',[]).append(APPdata[index][12])\n",
    "        \n",
    "        tmp_request = APPdata[index][13][2:-1].strip()\n",
    "\n",
    "        averages[APPdata[index][-1]]['request'].append(tmp_request)\n",
    "        averages[APPdata[index][-1]]['responed'].append(APPdata[index][14][2:-1].strip())\n",
    "        \n",
    "        \n",
    "print(type(float(averages['III app']['request'][1])))\n",
    "            "
   ]
  },
  {
   "cell_type": "code",
   "execution_count": 260,
   "metadata": {},
   "outputs": [
    {
     "ename": "ValueError",
     "evalue": "invalid literal for int() with base 10: \" '0'\"",
     "output_type": "error",
     "traceback": [
      "\u001b[0;31m---------------------------------------------------------------------------\u001b[0m",
      "\u001b[0;31mValueError\u001b[0m                                Traceback (most recent call last)",
      "\u001b[0;32m<ipython-input-260-da1bf625d1ff>\u001b[0m in \u001b[0;36m<module>\u001b[0;34m()\u001b[0m\n\u001b[0;32m----> 1\u001b[0;31m \u001b[0mprint\u001b[0m\u001b[0;34m(\u001b[0m\u001b[0mtype\u001b[0m\u001b[0;34m(\u001b[0m\u001b[0mint\u001b[0m\u001b[0;34m(\u001b[0m\u001b[0mAPPdata\u001b[0m\u001b[0;34m[\u001b[0m\u001b[0;36m10\u001b[0m\u001b[0;34m]\u001b[0m\u001b[0;34m[\u001b[0m\u001b[0;36m13\u001b[0m\u001b[0;34m]\u001b[0m\u001b[0;34m)\u001b[0m\u001b[0;34m)\u001b[0m\u001b[0;34m)\u001b[0m\u001b[0;34m\u001b[0m\u001b[0m\n\u001b[0m",
      "\u001b[0;31mValueError\u001b[0m: invalid literal for int() with base 10: \" '0'\""
     ]
    }
   ],
   "source": [
    "print(type(int(APPdata[10][13])))"
   ]
  },
  {
   "cell_type": "code",
   "execution_count": 305,
   "metadata": {},
   "outputs": [
    {
     "ename": "SyntaxError",
     "evalue": "invalid syntax (<ipython-input-305-97cd0420d94c>, line 1)",
     "output_type": "error",
     "traceback": [
      "\u001b[0;36m  File \u001b[0;32m\"<ipython-input-305-97cd0420d94c>\"\u001b[0;36m, line \u001b[0;32m1\u001b[0m\n\u001b[0;31m    test_item = lambda x : x in APPdata[10][13] if not ('\\'')\u001b[0m\n\u001b[0m                                                             ^\u001b[0m\n\u001b[0;31mSyntaxError\u001b[0m\u001b[0;31m:\u001b[0m invalid syntax\n"
     ]
    }
   ],
   "source": [
    "test_item = lambda x : x in APPdata[10][13] if not ('\\'')"
   ]
  },
  {
   "cell_type": "code",
   "execution_count": 298,
   "metadata": {},
   "outputs": [
    {
     "name": "stdout",
     "output_type": "stream",
     "text": [
      " '0\n"
     ]
    }
   ],
   "source": [
    "print(test_item)"
   ]
  },
  {
   "cell_type": "code",
   "execution_count": null,
   "metadata": {
    "collapsed": true
   },
   "outputs": [],
   "source": [
    "for index in range(len(APPdata)):\n",
    "    #print(APPdata[index][12])\n",
    "    if APPdata[index][30] == 'III app':\n",
    "        print(APPdata[index][8])"
   ]
  }
 ],
 "metadata": {
  "kernelspec": {
   "display_name": "Python 3",
   "language": "python",
   "name": "python3"
  },
  "language_info": {
   "codemirror_mode": {
    "name": "ipython",
    "version": 3
   },
   "file_extension": ".py",
   "mimetype": "text/x-python",
   "name": "python",
   "nbconvert_exporter": "python",
   "pygments_lexer": "ipython3",
   "version": "3.6.3"
  }
 },
 "nbformat": 4,
 "nbformat_minor": 2
}

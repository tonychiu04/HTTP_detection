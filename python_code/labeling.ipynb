{
 "cells": [
  {
   "cell_type": "code",
   "execution_count": 1,
   "metadata": {
    "collapsed": true
   },
   "outputs": [],
   "source": [
    "import networkx as nx\n",
    "import matplotlib.pyplot as plt\n",
    "import sys\n",
    "import numpy as np\n",
    "%matplotlib inline"
   ]
  },
  {
   "cell_type": "code",
   "execution_count": 2,
   "metadata": {
    "collapsed": true,
    "scrolled": false
   },
   "outputs": [],
   "source": [
    "\n",
    "class Labeling_processor():\n",
    "    def __init__(self):\n",
    "        pass\n",
    "    \n",
    "    def load_data(self, file_path):\n",
    "        '''讀取檔案'''\n",
    "        def filter_comment(tmp_str):\n",
    "            '''去除註解'''\n",
    "            if tmp_str[0] != '#':\n",
    "                return tmp_str\n",
    "        \n",
    "        with open(file_path, 'r') as f:\n",
    "            ori_data = f.readlines()\n",
    "            self.field_name = ori_data[6].strip().split('\\t')[1:]  # 欄位名稱\n",
    "            data = filter(filter_comment, ori_data)            \n",
    "            data = [i.strip().split('\\t') for i in data]\n",
    "        return data\n",
    "    \n",
    "    def proc_data(self, path):\n",
    "        exfiltration = []\n",
    "        dataset = self.load_data(path)\n",
    "        head_node = []\n",
    "        browser = ['Chrome','Safari','Firefox','Mozilla']\n",
    "        \n",
    "        Output_data = open('Background_APP.txt', 'w+')\n",
    "        def check_useragent(tmp_data,tmp_index):\n",
    "            count = 0\n",
    "            for j in browser:\n",
    "                if j in tmp_data[12]:\n",
    "                    dataset[tmp_index].append('browser')\n",
    "                    head_node.append(dataset)\n",
    "                    break\n",
    "                else:\n",
    "                    count += 1\n",
    "                if count == len(browser):\n",
    "                    dataset[tmp_index].append('background APP')\n",
    "                    for text in dataset[tmp_index]:\n",
    "                        Output_data.write(str(text) + '\\t')\n",
    "                    Output_data.write('\\n')\n",
    "\n",
    "        for i in range(len(dataset)):\n",
    "            if 'http' in dataset[i][10]:\n",
    "                dataset[i][10] = dataset[i][10].strip('https:')\n",
    "                if '/' in dataset[i][10]:\n",
    "                    dataset[i][10] = dataset[i][10].strip('/')\n",
    "            if dataset[i][10] == '-':\n",
    "                exfiltration.append(dataset[i])\n",
    "\n",
    "        for i in range(len(dataset)):\n",
    "            if dataset[i][28] == 'text/html':\n",
    "                check_useragent(dataset[i],i)\n",
    "            elif dataset[i][28] == 'text/css':\n",
    "                check_useragent(dataset[i],i)\n",
    "            elif dataset[i][28] == 'application/x-javascript':\n",
    "                check_useragent(dataset[i],i)\n",
    "            elif dataset[i][28] == 'application/x-shockwave-flash':\n",
    "                check_useragent(dataset[i],i)\n",
    "\n",
    "\n",
    "            # chek the user-agent of request which was send by browser or not\n",
    "            else:\n",
    "                count = 0\n",
    "                for j in browser:\n",
    "                    if j in dataset[i][12]:\n",
    "                        count += 1\n",
    "                if count > 0:\n",
    "                    dataset[i].append('browser')\n",
    "                else:\n",
    "                    dataset[i].append('background APP')\n",
    "                    #Output_data.write(str(dataset[i]) + '\\n')\n",
    "                    for text in dataset[i]:\n",
    "                        Output_data.write(str(text) + '\\t')\n",
    "                    Output_data.write('\\n')\n",
    "                    \n",
    "        self.dataset, self.head_node = dataset, head_node\n",
    "        Output_data.close()\n",
    "        return dataset\n",
    "        #return DataSet ,Features,DisconnectedNodeFilter(exfiltration),HeadNode\n",
    "\n",
    "\n",
    "    def calc_isolate(self):\n",
    "        data = self.dataset\n",
    "        head_nodeset = self.head_node\n",
    "        G = nx.Graph()\n",
    "        G.clear()\n",
    "        head_node = [str(head_nodeset[head][8]) for head in range(len(head_nodeset))]\n",
    "        for i in range(len(data)):\n",
    "            try:\n",
    "                G.add_node(str(data[i][8]))\n",
    "            except NameError:\n",
    "                G.add_node(str(data[i][8]))\n",
    "            if data[i][8] != '-':\n",
    "                G.add_edge(str(data[i][8]),str(data[i][10]))                                             \n",
    "\n",
    "        G.remove_node('-')\n",
    "        pos = nx.spring_layout(G)\n",
    "        for p in pos: \n",
    "            pos[p][1] += 0.02\n",
    "        \n",
    "        points = [isolate_point for isolate_point in nx.isolates(G)]\n",
    "        \n",
    "        res = list()\n",
    "        for i in range(len(self.dataset)):\n",
    "            for j in points:\n",
    "                if j in self.dataset[i][8]:\n",
    "                    tmp_dict = dict()\n",
    "                    for k in range(len(self.field_name)):\n",
    "                        tmp_dict[self.field_name[k]] = self.dataset[i][k]\n",
    "                    res.append(tmp_dict)\n",
    "                    break\n",
    "        return res\n",
    "\n",
    "    def draw_network_plot(self, file_name=\"graph\", show=False):\n",
    "        plt.figure(figsize=(16,12))\n",
    "        data = self.dataset\n",
    "        head_nodeset = self.head_node\n",
    "        G = nx.Graph()\n",
    "        G.clear()\n",
    "        head_node = [str(head_nodeset[head][8]) for head in range(len(head_nodeset))]\n",
    "        for i in range(len(data)):\n",
    "            try:\n",
    "                G.add_node(str(data[i][8]))\n",
    "            except NameError:\n",
    "                G.add_node(str(data[i][8]))\n",
    "            if data[i][8] != '-':\n",
    "                G.add_edge(str(data[i][8]),str(data[i][10]))                                             \n",
    "\n",
    "        G.remove_node('-')\n",
    "        pos = nx.spring_layout(G)\n",
    "        #for p in pos: \n",
    "        #    pos[p][1] += 0.02\n",
    "            \n",
    "        nx.draw_networkx_labels(G, pos)\n",
    "        nx.draw(G, pos) \n",
    "        #nx.draw_networkx_nodes(G,pos,nodelist=head_node,node_color='b')\n",
    "        plt.show()\n",
    "        #if show:\n",
    "        #    plt.show()\n",
    "        #else:\n",
    "        #    plt.savefig(\"%s.png\" % file_name, format=\"PNG\")\n",
    "\n",
    "    def tran2dict(self):\n",
    "        '''轉換成 key-value 的型態'''\n",
    "        dataset = self.dataset\n",
    "        \n",
    "        def clean_url(tmp_url):\n",
    "            return tmp_url[:-1] if tmp_url[-1] == '/' else tmp_url\n",
    "\n",
    "        def convert_tz(ts, tz_new='Asia/Taipei', tz_old='UTC'):\n",
    "            '''timestamp 轉換'''\n",
    "            tz_old = pytz.timezone(tz_old)\n",
    "            tz_new = pytz.timezone(tz_new)\n",
    "\n",
    "            ts = datetime.datetime.fromtimestamp(float(ts))\n",
    "            return tz_old.localize(ts).astimezone(tz_new).strftime('%Y-%m-%d %H:%M:%S')\n",
    "     \n",
    "        field = self.field_name\n",
    "        field.append('label')\n",
    "        res = list()\n",
    "        \n",
    "        for line in dataset:\n",
    "            tmp_dict = { c:line[i] if i != 0 else convert_tz(line[0]) for i, c in enumerate(field)}\n",
    "        \n",
    "            # 特別處理 ref 的 http:// 和 https://\n",
    "            tmp_dict['referrer'] = tmp_dict['referrer'].replace('http://', '').replace('https://', '')\n",
    "            tmp_dict['referrer'], tmp_dict['host'] = clean_url(tmp_dict['referrer']), clean_url(tmp_dict['host'])\n",
    "\n",
    "            res.append(tmp_dict)\n",
    "            \n",
    "        return res\n",
    "    \n",
    "    \n",
    "        "
   ]
  },
  {
   "cell_type": "code",
   "execution_count": 3,
   "metadata": {
    "collapsed": true
   },
   "outputs": [],
   "source": [
    "IIItest = Labeling_processor()"
   ]
  },
  {
   "cell_type": "code",
   "execution_count": 4,
   "metadata": {},
   "outputs": [
    {
     "name": "stdout",
     "output_type": "stream",
     "text": [
      "[['1521514507.270500', 'ChyGmY3aM4QiUgk0n4', '192.168.41.201', '52060', '140.92.66.103', '80', '1', '-', '-', '-', '-', '1.1', '-', '0', '326', '503', 'Service Unavailable', '-', '-', '(empty)', '-', '-', '-', '-', '-', '-', 'F2UTeCclGuS9ZIEV5', '-', 'text/html'], ['1521514508.230144', 'CUb7Kq3u5R9QgmydHe', '140.92.100.122', '60996', '140.92.53.55', '8080', '1', '-', '-', '-', '-', '1.1', '-', '0', '1197', '200', 'OK', '-', '-', '(empty)', '-', '-', '-', '-', '-', '-', 'FuqSlR29bubpsgNIw6', '-', 'application/xml']]\n"
     ]
    }
   ],
   "source": [
    "print(IIItest.load_data('log/IIIHTTP2.log')[:2])"
   ]
  },
  {
   "cell_type": "markdown",
   "metadata": {},
   "source": []
  },
  {
   "cell_type": "code",
   "execution_count": 5,
   "metadata": {},
   "outputs": [
    {
     "name": "stdout",
     "output_type": "stream",
     "text": [
      "[['1521514507.270500', 'ChyGmY3aM4QiUgk0n4', '192.168.41.201', '52060', '140.92.66.103', '80', '1', '-', '-', '-', '-', '1.1', '-', '0', '326', '503', 'Service Unavailable', '-', '-', '(empty)', '-', '-', '-', '-', '-', '-', 'F2UTeCclGuS9ZIEV5', '-', 'text/html', 'background APP'], ['1521514508.230144', 'CUb7Kq3u5R9QgmydHe', '140.92.100.122', '60996', '140.92.53.55', '8080', '1', '-', '-', '-', '-', '1.1', '-', '0', '1197', '200', 'OK', '-', '-', '(empty)', '-', '-', '-', '-', '-', '-', 'FuqSlR29bubpsgNIw6', '-', 'application/xml', 'background APP']]\n"
     ]
    }
   ],
   "source": [
    "print(IIItest.proc_data('log/IIIHTTP2.log')[:2])"
   ]
  },
  {
   "cell_type": "code",
   "execution_count": null,
   "metadata": {
    "collapsed": true,
    "scrolled": false
   },
   "outputs": [],
   "source": []
  },
  {
   "cell_type": "code",
   "execution_count": 5,
   "metadata": {},
   "outputs": [
    {
     "ename": "NameError",
     "evalue": "name 'nx' is not defined",
     "output_type": "error",
     "traceback": [
      "\u001b[0;31m---------------------------------------------------------------------------\u001b[0m",
      "\u001b[0;31mNameError\u001b[0m                                 Traceback (most recent call last)",
      "\u001b[0;32m<ipython-input-5-db91e62140dd>\u001b[0m in \u001b[0;36m<module>\u001b[0;34m()\u001b[0m\n\u001b[0;32m----> 1\u001b[0;31m \u001b[0mIIItest\u001b[0m\u001b[0;34m.\u001b[0m\u001b[0mcalc_isolate\u001b[0m\u001b[0;34m(\u001b[0m\u001b[0;34m)\u001b[0m\u001b[0;34m\u001b[0m\u001b[0m\n\u001b[0m",
      "\u001b[0;32m<ipython-input-1-b1dbd52e88ab>\u001b[0m in \u001b[0;36mcalc_isolate\u001b[0;34m(self)\u001b[0m\n\u001b[1;32m     78\u001b[0m         \u001b[0mdata\u001b[0m \u001b[0;34m=\u001b[0m \u001b[0mself\u001b[0m\u001b[0;34m.\u001b[0m\u001b[0mdataset\u001b[0m\u001b[0;34m\u001b[0m\u001b[0m\n\u001b[1;32m     79\u001b[0m         \u001b[0mhead_nodeset\u001b[0m \u001b[0;34m=\u001b[0m \u001b[0mself\u001b[0m\u001b[0;34m.\u001b[0m\u001b[0mhead_node\u001b[0m\u001b[0;34m\u001b[0m\u001b[0m\n\u001b[0;32m---> 80\u001b[0;31m         \u001b[0mG\u001b[0m \u001b[0;34m=\u001b[0m \u001b[0mnx\u001b[0m\u001b[0;34m.\u001b[0m\u001b[0mGraph\u001b[0m\u001b[0;34m(\u001b[0m\u001b[0;34m)\u001b[0m\u001b[0;34m\u001b[0m\u001b[0m\n\u001b[0m\u001b[1;32m     81\u001b[0m         \u001b[0mG\u001b[0m\u001b[0;34m.\u001b[0m\u001b[0mclear\u001b[0m\u001b[0;34m(\u001b[0m\u001b[0;34m)\u001b[0m\u001b[0;34m\u001b[0m\u001b[0m\n\u001b[1;32m     82\u001b[0m         \u001b[0mhead_node\u001b[0m \u001b[0;34m=\u001b[0m \u001b[0;34m[\u001b[0m\u001b[0mstr\u001b[0m\u001b[0;34m(\u001b[0m\u001b[0mhead_nodeset\u001b[0m\u001b[0;34m[\u001b[0m\u001b[0mhead\u001b[0m\u001b[0;34m]\u001b[0m\u001b[0;34m[\u001b[0m\u001b[0;36m8\u001b[0m\u001b[0;34m]\u001b[0m\u001b[0;34m)\u001b[0m \u001b[0;32mfor\u001b[0m \u001b[0mhead\u001b[0m \u001b[0;32min\u001b[0m \u001b[0mrange\u001b[0m\u001b[0;34m(\u001b[0m\u001b[0mlen\u001b[0m\u001b[0;34m(\u001b[0m\u001b[0mhead_nodeset\u001b[0m\u001b[0;34m)\u001b[0m\u001b[0;34m)\u001b[0m\u001b[0;34m]\u001b[0m\u001b[0;34m\u001b[0m\u001b[0m\n",
      "\u001b[0;31mNameError\u001b[0m: name 'nx' is not defined"
     ]
    }
   ],
   "source": [
    "IIItest.calc_isolate()"
   ]
  },
  {
   "cell_type": "code",
   "execution_count": null,
   "metadata": {
    "collapsed": true
   },
   "outputs": [],
   "source": []
  },
  {
   "cell_type": "code",
   "execution_count": null,
   "metadata": {
    "collapsed": true
   },
   "outputs": [],
   "source": []
  },
  {
   "cell_type": "code",
   "execution_count": null,
   "metadata": {
    "collapsed": true
   },
   "outputs": [],
   "source": []
  },
  {
   "cell_type": "code",
   "execution_count": null,
   "metadata": {
    "collapsed": true
   },
   "outputs": [],
   "source": []
  },
  {
   "cell_type": "code",
   "execution_count": null,
   "metadata": {
    "collapsed": true
   },
   "outputs": [],
   "source": []
  },
  {
   "cell_type": "code",
   "execution_count": null,
   "metadata": {
    "collapsed": true
   },
   "outputs": [],
   "source": []
  },
  {
   "cell_type": "code",
   "execution_count": null,
   "metadata": {
    "collapsed": true
   },
   "outputs": [],
   "source": []
  },
  {
   "cell_type": "code",
   "execution_count": null,
   "metadata": {
    "collapsed": true
   },
   "outputs": [],
   "source": []
  }
 ],
 "metadata": {
  "kernelspec": {
   "display_name": "Python 3",
   "language": "python",
   "name": "python3"
  },
  "language_info": {
   "codemirror_mode": {
    "name": "ipython",
    "version": 3
   },
   "file_extension": ".py",
   "mimetype": "text/x-python",
   "name": "python",
   "nbconvert_exporter": "python",
   "pygments_lexer": "ipython3",
   "version": "3.6.3"
  }
 },
 "nbformat": 4,
 "nbformat_minor": 2
}

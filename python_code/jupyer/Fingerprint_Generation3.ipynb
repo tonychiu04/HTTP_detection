{
 "cells": [
  {
   "cell_type": "markdown",
   "metadata": {},
   "source": [
    "#### Load data"
   ]
  },
  {
   "cell_type": "code",
   "execution_count": 5,
   "metadata": {
    "collapsed": true
   },
   "outputs": [],
   "source": [
    "with open('log/IIIHTTP.log','r') as InputData:\n",
    "    APPdata = InputData.readlines()\n",
    "    APPdata = [i.strip().split('\\t') for i in APPdata]\n",
    "    #For BackdroundAPP.txt format below \n",
    "    #APPdata = [i.strip().split(',') for i in APPdata]\n",
    "    APPdata = list(filter(lambda x:'#' not in x[0],APPdata))"
   ]
  },
  {
   "cell_type": "code",
   "execution_count": 6,
   "metadata": {
    "collapsed": true
   },
   "outputs": [],
   "source": [
    "with open('log/IIIHTTP3.log','r') as InputData2:\n",
    "    Testdata = InputData2.readlines()\n",
    "    Testdata = [i.strip().split('\\t') for i in Testdata]\n",
    "    Testdata = list(filter(lambda x:'#' not in x[0],Testdata))"
   ]
  },
  {
   "cell_type": "code",
   "execution_count": 7,
   "metadata": {
    "collapsed": true
   },
   "outputs": [],
   "source": [
    "def similarity(test_data,whiteList_data):\n",
    "    score = 0\n",
    "    for key in fingerprint_keys_index:\n",
    "        for key_index in fingerprint_keys_index[key]:\n",
    "            if test_data[key_index] in whiteList_data[key]:\n",
    "                score += 1\n",
    "    #if score > 0:\n",
    "    #    WhiteListUpdate(test_data,whiteList_data)\n",
    "    return score"
   ]
  },
  {
   "cell_type": "code",
   "execution_count": 8,
   "metadata": {},
   "outputs": [],
   "source": [
    "def WhiteListUpdate(data):\n",
    "    pass"
   ]
  },
  {
   "cell_type": "code",
   "execution_count": 9,
   "metadata": {
    "collapsed": true
   },
   "outputs": [],
   "source": [
    "def outgoingInfo(data):\n",
    "    pass"
   ]
  },
  {
   "cell_type": "markdown",
   "metadata": {},
   "source": [
    "#### Training the white list fingerprint"
   ]
  },
  {
   "cell_type": "code",
   "execution_count": 10,
   "metadata": {
    "collapsed": true
   },
   "outputs": [],
   "source": [
    "fingerprint_keys_index={'ip':[4],'host':[8],'userAgent':[12]}\n",
    "trainedList = {}\n",
    "for index in range(len(APPdata)):\n",
    "    if APPdata[index][12].strip() != \"'-'\":\n",
    "        label = APPdata[index][12].replace('\\'','').strip()\n",
    "        if label not in trainedList:\n",
    "            tmp_dict = {'ip':[APPdata[index][4].replace('\\'','').strip()],\n",
    "                        'host':[APPdata[index][8].replace('\\'','').strip()],\n",
    "                        'userAgent':[label]}\n",
    "            trainedList.setdefault(label)\n",
    "            trainedList[label] = tmp_dict\n",
    "        else:\n",
    "            for key in fingerprint_keys_index:\n",
    "                for key_index in fingerprint_keys_index[key]:\n",
    "                    tmp_APPdata = APPdata[index][key_index].replace('\\'','').strip()\n",
    "                    if  tmp_APPdata not in trainedList[label][key]:\n",
    "                        trainedList[label].setdefault(key,[]).append(tmp_APPdata)"
   ]
  },
  {
   "cell_type": "code",
   "execution_count": null,
   "metadata": {
    "collapsed": true
   },
   "outputs": [],
   "source": []
  },
  {
   "cell_type": "code",
   "execution_count": 11,
   "metadata": {
    "collapsed": true,
    "scrolled": true
   },
   "outputs": [],
   "source": [
    "toBeDetermined = []\n",
    "NoHost =[]\n",
    "for test_index in range(len(Testdata)):\n",
    "    similarityScore = 0\n",
    "    if Testdata[test_index][8] == '-':\n",
    "        NoHost.append(Testdata[test_index])\n",
    "    else:\n",
    "        if Testdata[test_index][12] in trainedList:\n",
    "            whiteList = trainedList[Testdata[test_index][12]]\n",
    "            similarityScore = similarity(Testdata[test_index],whiteList)\n",
    "        else:\n",
    "            max_score = 0\n",
    "            likelihoodAPP = []\n",
    "            for label in trainedList:\n",
    "                similarityScore = similarity(Testdata[test_index],trainedList[label])\n",
    "                if similarityScore > max_score:\n",
    "                    likelihoodAPP = Testdata[test_index]\n",
    "                    max_score = similarityScore\n",
    "                elif (similarityScore > 0) and (similarityScore < max_score):\n",
    "                    likelihoodAPP.append(Testdata[test_index])\n",
    "            if max_score == 0:\n",
    "                toBeDetermined.append(Testdata[test_index])\n",
    "            #print(similarityScore,Testdata[test_index][12],likelihoodAPP)"
   ]
  },
  {
   "cell_type": "code",
   "execution_count": 13,
   "metadata": {
    "scrolled": true
   },
   "outputs": [
    {
     "name": "stdout",
     "output_type": "stream",
     "text": [
      "[['1521514507.431700', 'CQpVSQ37fy6QUJNBK1', '140.92.39.43', '4352', '37.252.227.51', '80', '1', 'GET', 'ping3.teamviewer.com', '/din.aspx?s=00000000&client=DynGate&rnd=400557012&p=10000001', '-', '-', 'Mozilla/4.0 (compatible; MSIE 6.0; DynGate)', '0', '0', '-', '-', '-', '-', '(empty)', '-', '-', '-', '-', '-', '-', '-', '-', '-'], ['1521514507.456668', 'CJWVZY2CTRtr2fgCDc', '140.92.211.22', '50873', '162.220.223.28', '80', '1', 'GET', 'ping3.teamviewer.com', '/din.aspx?s=00000000&id=492665042&client=DynGate&p=10000001', '-', '-', 'Mozilla/4.0 (compatible; MSIE 6.0; DynGate)', '0', '0', '-', '-', '-', '-', '(empty)', '-', '-', '-', '-', '-', '-', '-', '-', '-'], ['1521514507.592128', 'CMoC274tLuKCNJiPSk', '140.92.71.152', '55823', '185.188.32.4', '80', '1', 'GET', 'master10.teamviewer.com', '/din.aspx?s=00000000&id=516118294&client=DynGate&p=10000001', '-', '-', 'Mozilla/4.0 (compatible; MSIE 6.0; DynGate)', '0', '0', '-', '-', '-', '-', '(empty)', '-', '-', '-', '-', '-', '-', '-', '-', '-'], ['1521514507.565960', 'C4xKq3jtwbvfpEkeh', '140.92.18.126', '57829', '162.220.223.28', '80', '1', 'GET', 'ping3.teamviewer.com', '/din.aspx?s=00000000&client=DynGate&rnd=59193144&p=10000001', '-', '-', 'Mozilla/4.0 (compatible; MSIE 6.0; DynGate)', '0', '0', '-', '-', '-', '-', '(empty)', '-', '-', '-', '-', '-', '-', '-', '-', '-'], ['1521514507.775344', 'CulntY2xwDQZhdSMr2', '140.92.39.43', '4353', '37.252.227.51', '80', '1', 'GET', 'ping3.teamviewer.com', '/din.aspx?s=00000000&client=DynGate&retry=1&rnd=400557012&p=10000002', '-', '-', 'Mozilla/4.0 (compatible; MSIE 6.0; DynGate)', '0', '0', '-', '-', '-', '-', '(empty)', '-', '-', '-', '-', '-', '-', '-', '-', '-'], ['1521514507.796584', 'Cuoxjz4tGyDTHoHFql', '140.92.211.22', '50874', '185.188.32.3', '80', '1', 'GET', 'master3.teamviewer.com', '/din.aspx?s=00000000&id=492665042&client=DynGate&p=10000001', '-', '-', 'Mozilla/4.0 (compatible; MSIE 6.0; DynGate)', '0', '0', '-', '-', '-', '-', '(empty)', '-', '-', '-', '-', '-', '-', '-', '-', '-'], ['1521514507.832331', 'CamVh2YVeVbCXYkBi', '140.92.63.253', '56102', '140.205.32.13', '80', '1', 'POST', 'blades.aliyun.com', '/u', '-', '-', 'WinHttpClient', '1149', '0', '-', '-', '-', '-', '(empty)', '-', '-', '-', 'FZFNEzEPYrqifkiEb', '-', 'text/json', '-', '-', '-'], ['1521514507.805666', 'CptOgt3WRVNO16dVb3', '140.92.18.126', '57830', '162.220.223.28', '80', '1', 'GET', 'ping3.teamviewer.com', '/din.aspx?s=00000000&client=DynGate&retry=1&rnd=383992833&p=10000002', '-', '-', 'Mozilla/4.0 (compatible; MSIE 6.0; DynGate)', '0', '0', '-', '-', '-', '-', '(empty)', '-', '-', '-', '-', '-', '-', '-', '-', '-'], ['1521514507.808852', 'CTpSKL1HxC6wv62JTl', '140.92.60.161', '55431', '162.220.223.28', '80', '1', 'GET', 'ping3.teamviewer.com', '/din.aspx?s=00000000&id=251672105&client=DynGate&p=10000001', '-', '-', 'Mozilla/4.0 (compatible; MSIE 6.0; DynGate)', '0', '0', '-', '-', '-', '-', '(empty)', '-', '-', '-', '-', '-', '-', '-', '-', '-'], ['1521514507.945869', 'Cr5Ul65wAkWaEMORe', '140.92.18.32', '63370', '217.146.26.212', '80', '1', 'GET', 'ping3.teamviewer.com', '/din.aspx?s=00000000&client=DynGate&rnd=209304774&p=10000001', '-', '-', 'Mozilla/4.0 (compatible; MSIE 6.0; DynGate)', '0', '0', '-', '-', '-', '-', '(empty)', '-', '-', '-', '-', '-', '-', '-', '-', '-']]\n"
     ]
    }
   ],
   "source": [
    "print(toBeDetermined[:10])"
   ]
  },
  {
   "cell_type": "code",
   "execution_count": 14,
   "metadata": {
    "scrolled": true
   },
   "outputs": [
    {
     "name": "stdout",
     "output_type": "stream",
     "text": [
      "17063\n"
     ]
    }
   ],
   "source": [
    "print(len(toBeDetermined))"
   ]
  },
  {
   "cell_type": "code",
   "execution_count": null,
   "metadata": {
    "collapsed": true
   },
   "outputs": [],
   "source": []
  },
  {
   "cell_type": "code",
   "execution_count": null,
   "metadata": {
    "collapsed": true
   },
   "outputs": [],
   "source": []
  }
 ],
 "metadata": {
  "kernelspec": {
   "display_name": "Python 3",
   "language": "python",
   "name": "python3"
  },
  "language_info": {
   "codemirror_mode": {
    "name": "ipython",
    "version": 3
   },
   "file_extension": ".py",
   "mimetype": "text/x-python",
   "name": "python",
   "nbconvert_exporter": "python",
   "pygments_lexer": "ipython3",
   "version": "3.6.3"
  }
 },
 "nbformat": 4,
 "nbformat_minor": 2
}

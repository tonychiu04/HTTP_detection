{
 "cells": [
  {
   "cell_type": "markdown",
   "metadata": {},
   "source": [
    "#### Load data"
   ]
  },
  {
   "cell_type": "code",
   "execution_count": 1,
   "metadata": {
    "collapsed": true
   },
   "outputs": [],
   "source": [
    "with open('log/IIIHTTP2.log','r') as InputData:\n",
    "    APPdata = InputData.readlines()\n",
    "    APPdata = [i.strip().split('\\t') for i in APPdata]\n",
    "    APPdata = list(filter(lambda x:'#' not in x[0],APPdata))"
   ]
  },
  {
   "cell_type": "code",
   "execution_count": 2,
   "metadata": {
    "collapsed": true
   },
   "outputs": [],
   "source": [
    "with open('log/IIIHTTP3.log','r') as InputData2:\n",
    "    Testdata = InputData2.readlines()\n",
    "    Testdata = [i.strip().split('\\t') for i in Testdata]\n",
    "    Testdata = list(filter(lambda x:'#' not in x[0],Testdata))"
   ]
  },
  {
   "cell_type": "code",
   "execution_count": 3,
   "metadata": {
    "collapsed": true
   },
   "outputs": [],
   "source": [
    "def similarity(test_data,whiteList_data):\n",
    "    score = 0\n",
    "    for key in fingerprint_keys_index:\n",
    "        for key_index in fingerprint_keys_index[key]:\n",
    "            if test_data[key_index] in whiteList_data[key]:\n",
    "                score += 1\n",
    "    #if score > 1:\n",
    "    #    WhiteListUpdate(test_data,whiteList_data)\n",
    "    #else:\n",
    "    #    outgoingInfo()\n",
    "    return score"
   ]
  },
  {
   "cell_type": "code",
   "execution_count": 4,
   "metadata": {
    "collapsed": true
   },
   "outputs": [],
   "source": [
    "def WhiteListUpdate(data):\n",
    "    pass"
   ]
  },
  {
   "cell_type": "code",
   "execution_count": 5,
   "metadata": {
    "collapsed": true
   },
   "outputs": [],
   "source": [
    "def outgoingInfo(label,data):\n",
    "    req_len = data[13]\n",
    "    res_len = data[14]\n",
    "    #label = data[12]\n",
    "    if req_len > trainedList[label]['request_len']:\n",
    "        print(req_len,trainedList[label]['request_len'])\n",
    "        #return \n",
    "    elif res_len > trainedList[label]['respond_len']:\n",
    "        print(res_len,trainedList[label]['respond_len'])\n",
    "    else:\n",
    "        return "
   ]
  },
  {
   "cell_type": "code",
   "execution_count": 6,
   "metadata": {
    "collapsed": true
   },
   "outputs": [],
   "source": [
    "def average_data_len(label,req_data,res_data,num):\n",
    "    average_req = 0\n",
    "    average_res = 0\n",
    "    if req_data != 0:\n",
    "        num[0] += 1\n",
    "        average_req = (float(trainedList[label]['request_len']) *(num[0] - 1) + req_data)/num[0]\n",
    "    if res_data != 0:\n",
    "        num[1] += 1\n",
    "        average_res = (float(trainedList[label]['respond_len']) *(num[1] - 1) + req_data)/num[1]\n",
    "    return average_req,average_res,num"
   ]
  },
  {
   "cell_type": "markdown",
   "metadata": {},
   "source": [
    "#### Training the white list fingerprint"
   ]
  },
  {
   "cell_type": "code",
   "execution_count": 7,
   "metadata": {
    "collapsed": true
   },
   "outputs": [],
   "source": [
    "fingerprint_keys_index={'ip':[4],'host':[8],'userAgent':[12]}\n",
    "trainedList = {}\n",
    "for index in range(len(APPdata)):\n",
    "    if APPdata[index][12].strip() != \"-\":\n",
    "        label = APPdata[index][12].replace('\\'','').strip()\n",
    "        if label not in trainedList:\n",
    "            tmp_dict = {'ip':[APPdata[index][4].replace('\\'','').strip()],\n",
    "                        'host':[APPdata[index][8].replace('\\'','').strip()],\n",
    "                        'userAgent':[label],\n",
    "                       'num':[0,0]}\n",
    "            trainedList.setdefault(label)\n",
    "            trainedList[label] = tmp_dict\n",
    "            if int(APPdata[index][13].replace('\\'','').strip()) != 0:\n",
    "                trainedList[label]['request_len'] = float(APPdata[index][13].replace('\\'','').strip())\n",
    "            else:\n",
    "                trainedList[label]['request_len'] = []\n",
    "            if int(APPdata[index][14].replace('\\'','').strip()) != 0:\n",
    "                trainedList[label]['respond_len'] = float(APPdata[index][14].replace('\\'','').strip())\n",
    "            else:\n",
    "                trainedList[label]['respond_len'] = []\n",
    "        else:\n",
    "            for key in fingerprint_keys_index:\n",
    "                for key_index in fingerprint_keys_index[key]:\n",
    "                    tmp_APPdata = APPdata[index][key_index].replace('\\'','').strip()\n",
    "                    if  tmp_APPdata not in trainedList[label][key]:\n",
    "                        trainedList[label].setdefault(key,[]).append(tmp_APPdata) \n",
    "        trainedList[label]['request_len'],trainedList[label]['respond_len'],trainedList[label]['num'] = average_data_len(label,float(APPdata[index][13]),float(APPdata[index][14]),trainedList[label]['num'])"
   ]
  },
  {
   "cell_type": "code",
   "execution_count": 8,
   "metadata": {
    "scrolled": true
   },
   "outputs": [
    {
     "name": "stdout",
     "output_type": "stream",
     "text": [
      "{'ip': ['210.241.131.253', '211.75.100.229'], 'host': ['tisvcloud.freeway.gov.tw', 'ptx.transportdata.tw'], 'userAgent': ['Java/1.8.0_151'], 'num': [0, 0], 'request_len': 0, 'respond_len': 0}\n"
     ]
    }
   ],
   "source": [
    "print(trainedList['Java/1.8.0_151'])"
   ]
  },
  {
   "cell_type": "code",
   "execution_count": 9,
   "metadata": {
    "collapsed": true,
    "scrolled": true
   },
   "outputs": [],
   "source": [
    "toBeDetermined = []\n",
    "NoHost =[]\n",
    "for test_index in range(len(Testdata)):\n",
    "    similarityScore = 0\n",
    "    if Testdata[test_index][8] == '-':\n",
    "        NoHost.append(Testdata[test_index])\n",
    "    else:\n",
    "        if Testdata[test_index][12] in trainedList:\n",
    "            whiteList = trainedList[Testdata[test_index][12]]\n",
    "            similarityScore = similarity(Testdata[test_index],whiteList)\n",
    "        else:\n",
    "            max_score = 0\n",
    "            likelihoodAPP = []\n",
    "            for label in trainedList:\n",
    "                similarityScore = similarity(Testdata[test_index],trainedList[label])\n",
    "                if similarityScore > max_score:\n",
    "                    likelihoodAPP = Testdata[test_index]\n",
    "                    max_score = similarityScore\n",
    "                elif (similarityScore > 0) and (similarityScore < max_score):\n",
    "                    likelihoodAPP.append(Testdata[test_index])\n",
    "            if max_score == 0:\n",
    "                toBeDetermined.append(Testdata[test_index])\n",
    "            #print(similarityScore,Testdata[test_index][12],likelihoodAPP)"
   ]
  },
  {
   "cell_type": "code",
   "execution_count": null,
   "metadata": {
    "collapsed": true,
    "scrolled": true
   },
   "outputs": [],
   "source": []
  },
  {
   "cell_type": "code",
   "execution_count": null,
   "metadata": {
    "collapsed": true
   },
   "outputs": [],
   "source": []
  }
 ],
 "metadata": {
  "kernelspec": {
   "display_name": "Python 3",
   "language": "python",
   "name": "python3"
  },
  "language_info": {
   "codemirror_mode": {
    "name": "ipython",
    "version": 3
   },
   "file_extension": ".py",
   "mimetype": "text/x-python",
   "name": "python",
   "nbconvert_exporter": "python",
   "pygments_lexer": "ipython3",
   "version": "3.6.3"
  }
 },
 "nbformat": 4,
 "nbformat_minor": 2
}

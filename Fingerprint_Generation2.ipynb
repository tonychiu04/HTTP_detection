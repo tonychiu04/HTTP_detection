{
 "cells": [
  {
   "cell_type": "markdown",
   "metadata": {},
   "source": [
    "## White List Dataset"
   ]
  },
  {
   "cell_type": "code",
   "execution_count": 70,
   "metadata": {},
   "outputs": [],
   "source": [
    "with open('log/IIIHTTP.log','r') as InputData:\n",
    "    APPdata = InputData.readlines()\n",
    "    APPdata = [i.strip().split('\\t') for i in APPdata]\n",
    "    APPdata = list(filter(lambda x:'#' not in x[0],APPdata))"
   ]
  },
  {
   "cell_type": "code",
   "execution_count": 71,
   "metadata": {},
   "outputs": [],
   "source": [
    "features=['ts','uid','id.orig_h','id.orig_p','id.resp_h','id.resp_p','trans_depth'\n",
    "          ,'method','host','uri','referrer','version','user_agent','request_body_len'\n",
    "          ,'response_body_len','status_code','status_msg','info_code','info_msg'\n",
    "          ,'tags','username','password','proxied','orig_fuids','orig_filenames'\n",
    "          ,'orig_mime_types','resp_fuids','resp_filenames','resp_mime_types']"
   ]
  },
  {
   "cell_type": "code",
   "execution_count": 111,
   "metadata": {},
   "outputs": [],
   "source": [
    "test_keys={'label':{'host':[8],'ip':[4]}}"
   ]
  },
  {
   "cell_type": "code",
   "execution_count": 117,
   "metadata": {},
   "outputs": [
    {
     "ename": "SyntaxError",
     "evalue": "invalid syntax (<ipython-input-117-af8e787f1aae>, line 7)",
     "output_type": "error",
     "traceback": [
      "\u001b[0;36m  File \u001b[0;32m\"<ipython-input-117-af8e787f1aae>\"\u001b[0;36m, line \u001b[0;32m7\u001b[0m\n\u001b[0;31m    print(test_keys[])\u001b[0m\n\u001b[0m                    ^\u001b[0m\n\u001b[0;31mSyntaxError\u001b[0m\u001b[0;31m:\u001b[0m invalid syntax\n"
     ]
    }
   ],
   "source": [
    "for i in test_keys['label']:\n",
    "    for j in test_keys['label'][i]:\n",
    "        print(i)\n",
    "        print(j)\n"
   ]
  },
  {
   "cell_type": "markdown",
   "metadata": {},
   "source": [
    "## Test Dataset2"
   ]
  },
  {
   "cell_type": "code",
   "execution_count": 72,
   "metadata": {},
   "outputs": [],
   "source": [
    "with open('log/TestLog.log','r') as InputData2:\n",
    "    Testdata = InputData2.readlines()\n",
    "    Testdata = [i.strip().split('\\t') for i in Testdata]\n",
    "    Testdata = list(filter(lambda x:'#' not in x[0],Testdata))"
   ]
  },
  {
   "cell_type": "code",
   "execution_count": 81,
   "metadata": {
    "collapsed": true
   },
   "outputs": [],
   "source": [
    "def similarity(test_data,train_data):\n",
    "    score = 0\n",
    "    print(train_data)\n",
    "    keys = [j for j in train_data['label']]\n",
    "    for key in keys:\n",
    "        if test_data['label'][key] in train_data['label']['key']:\n",
    "            score += 1\n",
    "    return score"
   ]
  },
  {
   "cell_type": "code",
   "execution_count": 80,
   "metadata": {},
   "outputs": [
    {
     "ename": "SyntaxError",
     "evalue": "invalid syntax (<ipython-input-80-0d57ec2eb642>, line 9)",
     "output_type": "error",
     "traceback": [
      "\u001b[0;36m  File \u001b[0;32m\"<ipython-input-80-0d57ec2eb642>\"\u001b[0;36m, line \u001b[0;32m9\u001b[0m\n\u001b[0;31m    temp_feature['label'].setdefault('host',[]).append([APPdata[WhiteIndex][8])\u001b[0m\n\u001b[0m                                                                              ^\u001b[0m\n\u001b[0;31mSyntaxError\u001b[0m\u001b[0;31m:\u001b[0m invalid syntax\n"
     ]
    }
   ],
   "source": [
    "fingerprint_keys=['hots':[8],'ip':[4]]\n",
    "for index in range(len(Testdata)):\n",
    "    temp_feature={'label':{}}\n",
    "    Test_feature={'label':{'host':Testdata[index][8]}}\n",
    "    isInList = False\n",
    "    for WhiteIndex in range(len(APPdata)):\n",
    "        if Testdata[index][12] == APPdata[WhiteIndex][12]:\n",
    "            for key in fingerprint_keys:\n",
    "                if APPdata\n",
    "\n",
    "    if isInList == True:\n",
    "        print(similarity(Test_feature,temp_feature))"
   ]
  },
  {
   "cell_type": "code",
   "execution_count": 5,
   "metadata": {},
   "outputs": [],
   "source": [
    "fingerprint_label ={'label':{}}\n",
    "white_label={'label':{}}\n",
    "for index in range(len(Testdata)):\n",
    "    if Testdata[index][12] not in fingerprint_label['label']:\n",
    "        fingerprint_label['label'].setdefault(Testdata[index][12])\n",
    "for index in range(len(APPdata)):\n",
    "    if APPdata[index][12] not in white_label['label']:\n",
    "        white_label['label'].setdefault(APPdata[index][12])"
   ]
  },
  {
   "cell_type": "code",
   "execution_count": 6,
   "metadata": {
    "scrolled": true
   },
   "outputs": [
    {
     "name": "stdout",
     "output_type": "stream",
     "text": [
      "{'label': {'-': None, 'Mozilla/4.0 (compatible; MSIE 6.0; DynGate)': None, 'WinHttpClient': None, 'SyncBackPro V7.5.0.0': None, 'WhatsUp/1.0': None, 'Microsoft BITS/7.8': None, 'Java/1.8.0_151': None, 'Microsoft-WNS/10.0': None, 'Microsoft-CryptoAPI/6.1': None, 'Mozilla/5.0 (Windows NT 6.1; Win64; x64) AppleWebKit/537.36 (KHTML, like Gecko) Chrome/64.0.3282.186 Safari/537.36': None, 'Mozilla/5.0 (Windows NT 6.1; Win64; x64) AppleWebKit/537.36 (KHTML, like Gecko) Chrome/65.0.3325.162 Safari/537.36': None, 'Microsoft-CryptoAPI/10.0': None, 'Dalvik/2.1.0 (Linux; U; Android 7.0; MI 5s Plus MIUI/V9.2.1.0.NBGMIEK)': None, 'LuaSocket 2.0.2': None, 'trustd (unknown version) CFNetwork/889.9 Darwin/17.2.0 (x86_64)': None, 'TMUFE': None, 'APSDaemon.exe (unknown version) CFNetwork/520.32.4': None, 'Mozilla/5.0 (Windows NT 6.1; Win64; x64) AppleWebKit/537.36 (KHTML, like Gecko) Chrome/63.0.3239.132 Safari/537.36': None}}\n"
     ]
    }
   ],
   "source": [
    "print(fingerprint_label)"
   ]
  },
  {
   "cell_type": "code",
   "execution_count": 7,
   "metadata": {},
   "outputs": [
    {
     "name": "stdout",
     "output_type": "stream",
     "text": [
      "{'label': {'ESS Update (Windows; U; 32bit; PVT F; VDB 36755; BPC 5.0.2225.1; OS: 6.1.7601 SP 1.0 NT; TDB 36755; CL 0.0.0; LNG 1028; x64c; APP eea; ASP 0.10; FW 0.0; PX 0; PUA 0; CD 0; RA 1; PEV 29482; HWF: 010078CD-BFEC-3F35-8062-9E09EC25170E)': None, 'Windows-Update-Agent/10.0.10011.16384 Client-Protocol/1.70': None, '-': None, 'Mozilla/5.0 (Windows NT 6.1; WOW64; Trident/7.0; rv:11.0) like Gecko': None, 'Windows-Update-Agent/10.0.10011.16384 Client-Protocol/1.40': None, 'Mozilla/4.0 (compatible; MSIE 8.0; Windows NT 5.2; Trident/4.0)': None, 'Mozilla/4.0 (compatible; MSIE 7.0; Windows NT 10.0; WOW64; Trident/7.0; .NET4.0C; .NET4.0E; .NET CLR 2.0.50727; .NET CLR 3.0.30729; .NET CLR 3.5.30729; InfoPath.3; TAJB)': None, 'Mozilla/4.0 (compatible; MSIE 7.0; Windows NT 6.1; WOW64; Trident/7.0; SLCC2; .NET CLR 2.0.50727; .NET CLR 3.5.30729; .NET CLR 3.0.30729; Media Center PC 6.0; .NET4.0C; .NET4.0E; MATP; MATP; TAJB)': None, 'Mozilla/5.0 (Windows NT 10.0; WOW64; Trident/7.0; TAJB; rv:11.0) like Gecko': None, 'Mozilla/5.0 (Windows NT 6.1; WOW64; Trident/7.0; MATP; rv:11.0) like Gecko': None, 'Mozilla/4.0 (compatible; MSIE 7.0; Windows NT 10.0; WOW64; Trident/7.0; .NET4.0C; .NET4.0E; .NET CLR 2.0.50727; .NET CLR 3.0.30729; .NET CLR 3.5.30729; TBTE)': None, 'Windows-Update-Agent/10.0.10011.16384 Client-Protocol/1.32': None, 'Mozilla/5.0 (Windows NT 6.1; Win64; x64) AppleWebKit/537.36 (KHTML, like Gecko) Chrome/64.0.3282.186 Safari/537.36': None, 'Microsoft-Delivery-Optimization/10.0': None, 'ESS Update (Windows; U; 32bit; PVT F; VDB 36755; BPC 5.0.2225.1; OS: 6.1.7601 SP 1.0 NT; TDB 36755; CL 0.0.0; LNG 1028; x64c; APP eea; ASP 0.10; FW 0.0; PX 0; PUA 0; CD 0; RA 1; PEV 29482; HWF: 0100F668-FEF2-B2F2-510C-A498F5C44B6B)': None, 'Mozilla/4.0 (compatible; MSIE 7.0; Windows NT 10.0; WOW64; Trident/7.0; .NET4.0C; .NET4.0E; .NET CLR 2.0.50727; .NET CLR 3.0.30729; .NET CLR 3.5.30729; InfoPath.3; MATPJS)': None, 'Mozilla/4.0 (compatible; MSIE 6.0; MS Web Services Client Protocol 4.0.30319.18444)': None, 'WhatsUp/1.0': None, 'ESS Update (Windows; U; 32bit; PVT F; VDB 36755; BPC 5.0.2225.1; OS: 6.1.7601 SP 1.0 NT; TDB 36755; CL 0.0.0; LNG 1028; x64c; APP eea; ASP 0.10; FW 0.0; PX 0; PUA 0; CD 0; RA 1; PEV 29482; HWF: 0100AC05-7566-71B4-9EF0-959597C84208)': None, 'Windows-Update-Agent': None, 'Mozilla/4.0 (compatible; MSIE 7.0; Windows NT 6.1; WOW64; Trident/7.0; SLCC2; .NET CLR 2.0.50727; .NET CLR 3.5.30729; .NET CLR 3.0.30729; Media Center PC 6.0; .NET4.0C; .NET4.0E; .NET CLR 1.1.4322)': None, 'Microsoft BITS/7.5': None, 'Mozilla/4.0 (compatible; MSIE 7.0; Windows NT 6.1; WOW64; Trident/7.0; SLCC2; .NET CLR 2.0.50727; .NET CLR 3.5.30729; .NET CLR 3.0.30729; Media Center PC 6.0; .NET4.0C; .NET4.0E)': None, 'ESS Update (Windows; U; 32bit; PVT F; VDB 36755; BPC 5.0.2225.1; OS: 6.1.7601 SP 1.0 NT; TDB 36755; CL 0.0.0; LNG 1028; x32c; APP eea; ASP 0.10; FW 0.0; PX 0; PUA 0; CD 0; RA 1; PEV 29362; HWF: 0100428F-6388-294B-8E41-F4A90007B958)': None, 'Mozilla/4.0 (compatible; MSIE 7.0; Windows NT 10.0; WOW64; Trident/8.0; Touch; .NET4.0C; .NET4.0E; .NET CLR 2.0.50727; .NET CLR 3.0.30729; .NET CLR 3.5.30729; InfoPath.3; Tablet PC 2.0; TBTE)': None, 'Mozilla/4.0 (compatible; MSIE 7.0; Windows NT 10.0; WOW64; Trident/7.0; .NET4.0C; .NET4.0E; InfoPath.3; .NET CLR 2.0.50727; .NET CLR 3.0.30729; .NET CLR 3.5.30729)': None, 'ESS Update (Windows; U; 32bit; VDB 36755; BPC 4.2.71.2; OS: 6.1.7601 SP 1.0 NT; TDB 36755; CH 1.1; LNG 1028; x64c; APP eavbe; ASP 0.10; PX 2; PUA 2; RA 1; PEV 29482)': None, 'Mozilla/4.0 (compatible; MSIE 6.0; MS Web Services Client Protocol 2.0.50727.8762)': None, 'Mozilla/5.0 (Windows NT 6.1; WOW64; Trident/7.0; MATP; MATP; TAJB; rv:11.0) like Gecko': None, 'Mozilla/4.0 (compatible; MSIE 7.0; Windows NT 10.0; WOW64; Trident/7.0; .NET4.0C; .NET4.0E; .NET CLR 2.0.50727; .NET CLR 3.0.30729; .NET CLR 3.5.30729; InfoPath.3)': None, 'Mozilla/4.0 (compatible; MSIE 7.0; Windows NT 6.1; WOW64; Trident/7.0; SLCC2; .NET CLR 2.0.50727; .NET CLR 3.5.30729; .NET CLR 3.0.30729; Media Center PC 6.0; .NET4.0C; .NET4.0E; GWX:MANAGED; TBTE)': None, 'Mozilla/4.0 (compatible; MSIE 8.0; Windows NT 6.1; Win64; x64; Trident/4.0; GTB7.5; .NET CLR 2.0.50727; SLCC2; .NET CLR 3.5.30729; .NET CLR 3.0.30729; Media Center PC 6.0; .NET4.0C; .NET4.0E; Tablet PC 2.0)': None, 'Mozilla/4.0 (compatible; MSIE 7.0; Windows NT 10.0; WOW64; Trident/7.0; .NET4.0C; .NET4.0E; .NET CLR 2.0.50727; .NET CLR 3.0.30729; .NET CLR 3.5.30729; TAJB)': None}}\n"
     ]
    }
   ],
   "source": [
    "print(white_label)"
   ]
  },
  {
   "cell_type": "code",
   "execution_count": null,
   "metadata": {
    "collapsed": true
   },
   "outputs": [],
   "source": []
  }
 ],
 "metadata": {
  "kernelspec": {
   "display_name": "Python 3",
   "language": "python",
   "name": "python3"
  },
  "language_info": {
   "codemirror_mode": {
    "name": "ipython",
    "version": 3
   },
   "file_extension": ".py",
   "mimetype": "text/x-python",
   "name": "python",
   "nbconvert_exporter": "python",
   "pygments_lexer": "ipython3",
   "version": "3.6.3"
  }
 },
 "nbformat": 4,
 "nbformat_minor": 2
}
